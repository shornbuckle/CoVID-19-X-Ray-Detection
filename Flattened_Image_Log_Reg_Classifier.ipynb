{
 "cells": [
  {
   "cell_type": "code",
   "execution_count": 1,
   "metadata": {},
   "outputs": [],
   "source": [
    "import io\n",
    "from io import StringIO\n",
    "import os\n",
    "import sys\n",
    "import cv2\n",
    "from pyspark import SparkContext\n",
    "from pyspark.ml.feature import CountVectorizer\n",
    "from pyspark.sql import Row, SparkSession \n",
    "from pyspark.sql.functions import udf, col\n",
    "from pyspark.sql.types import ArrayType, FloatType, StringType, IntegerType\n",
    "import pyspark.sql.functions as F\n",
    "# for visualization\n",
    "import matplotlib\n",
    "import matplotlib.pyplot as plt\n",
    "%matplotlib inline "
   ]
  },
  {
   "cell_type": "code",
   "execution_count": 2,
   "metadata": {},
   "outputs": [],
   "source": [
    "# import spark session\n",
    "from pyspark.sql import SparkSession\n",
    "spark = SparkSession.builder.getOrCreate()"
   ]
  },
  {
   "cell_type": "code",
   "execution_count": 3,
   "metadata": {},
   "outputs": [],
   "source": [
    "data_path = \"./coronahack-chest-xraydataset/Chest_xray_Corona_Metadata.csv\"\n",
    "meta_data = spark.read.format('csv').options(header='true', inferschema='true').load(data_path)"
   ]
  },
  {
   "cell_type": "code",
   "execution_count": 4,
   "metadata": {},
   "outputs": [
    {
     "name": "stdout",
     "output_type": "stream",
     "text": [
      "+---+-----------------+------+------------+----------------------+----------------------+\n",
      "|_c0| X_ray_image_name| Label|Dataset_type|Label_2_Virus_category|Label_1_Virus_category|\n",
      "+---+-----------------+------+------------+----------------------+----------------------+\n",
      "|  0|IM-0128-0001.jpeg|Normal|       TRAIN|                  null|                  null|\n",
      "|  1|IM-0127-0001.jpeg|Normal|       TRAIN|                  null|                  null|\n",
      "|  2|IM-0125-0001.jpeg|Normal|       TRAIN|                  null|                  null|\n",
      "|  3|IM-0122-0001.jpeg|Normal|       TRAIN|                  null|                  null|\n",
      "|  4|IM-0119-0001.jpeg|Normal|       TRAIN|                  null|                  null|\n",
      "+---+-----------------+------+------------+----------------------+----------------------+\n",
      "only showing top 5 rows\n",
      "\n"
     ]
    }
   ],
   "source": [
    "meta_data.show(5)"
   ]
  },
  {
   "cell_type": "code",
   "execution_count": 5,
   "metadata": {},
   "outputs": [],
   "source": [
    "meta_data_with_labels = meta_data.withColumn(\n",
    "    'new_label',\n",
    "    F.when((F.col(\"Label\")  ==\"Normal\"), 0).otherwise(1)\n",
    ")"
   ]
  },
  {
   "cell_type": "code",
   "execution_count": 7,
   "metadata": {},
   "outputs": [
    {
     "name": "stdout",
     "output_type": "stream",
     "text": [
      "Number of samples:  5910\n",
      "Train samples:  5286\n",
      "Test samples:  624\n"
     ]
    }
   ],
   "source": [
    "number_of_samples = meta_data_with_labels.count()\n",
    "train_set = meta_data_with_labels.where(meta_data.Dataset_type == \"TRAIN\")\n",
    "test_set = meta_data_with_labels.where(meta_data.Dataset_type == \"TEST\")\n",
    "num_train = train_set.count()\n",
    "num_test = test_set.count()\n",
    "\n",
    "print(f\"Number of samples: \",number_of_samples )\n",
    "print(f\"Train samples: \", num_train)\n",
    "print(f\"Test samples: \",num_test)"
   ]
  },
  {
   "cell_type": "code",
   "execution_count": 8,
   "metadata": {},
   "outputs": [],
   "source": [
    "train_path = os.getcwd() +'/coronahack-chest-xraydataset/Coronahack-Chest-XRay-Dataset/Coronahack-Chest-XRay-Dataset/train/'\n",
    "@udf(returnType=StringType())\n",
    "def get_absolute_path(img_file):\n",
    "    abs_path = train_path+str(img_file)\n",
    "    return abs_path\n",
    "train = train_set.withColumn(\"image_path\", get_absolute_path(col(\"X_ray_image_name\")))\n",
    "\n",
    "test_path = os.getcwd() +'/coronahack-chest-xraydataset/Coronahack-Chest-XRay-Dataset/Coronahack-Chest-XRay-Dataset/test/'\n",
    "@udf(returnType=StringType())\n",
    "def get_test_absolute_path(img_file):\n",
    "    abs_path = test_path+str(img_file)\n",
    "    return abs_path\n",
    "test = test_set.withColumn(\"image_path\", get_test_absolute_path(col(\"X_ray_image_name\")))"
   ]
  },
  {
   "cell_type": "code",
   "execution_count": 9,
   "metadata": {},
   "outputs": [
    {
     "name": "stdout",
     "output_type": "stream",
     "text": [
      "5286\n",
      "624\n"
     ]
    }
   ],
   "source": [
    "select_train = train.select(\"image_path\", \"new_label\")\n",
    "select_test = test.select(\"image_path\", \"new_label\")\n",
    "# select_train.show(4)\n",
    "# select_test.show(4)\n",
    "print(select_train.count())\n",
    "print(select_test.count())\n"
   ]
  },
  {
   "cell_type": "markdown",
   "metadata": {},
   "source": [
    "# Convert images to flattened descriptors"
   ]
  },
  {
   "cell_type": "code",
   "execution_count": 10,
   "metadata": {},
   "outputs": [
    {
     "name": "stdout",
     "output_type": "stream",
     "text": [
      "+--------------------+---------+--------------------+\n",
      "|          image_path|new_label|         descriptors|\n",
      "+--------------------+---------+--------------------+\n",
      "|/Users/mma525/Doc...|        0|[0, 0, 0, 14, 14,...|\n",
      "|/Users/mma525/Doc...|        0|[61, 61, 61, 89, ...|\n",
      "|/Users/mma525/Doc...|        0|[79, 79, 79, 67, ...|\n",
      "|/Users/mma525/Doc...|        0|[46, 46, 46, 57, ...|\n",
      "+--------------------+---------+--------------------+\n",
      "only showing top 4 rows\n",
      "\n",
      "+--------------------+---------+--------------------+\n",
      "|          image_path|new_label|         descriptors|\n",
      "+--------------------+---------+--------------------+\n",
      "|/Users/mma525/Doc...|        0|[0, 0, 0, 0, 0, 0...|\n",
      "|/Users/mma525/Doc...|        0|[25, 25, 25, 24, ...|\n",
      "|/Users/mma525/Doc...|        0|[18, 18, 18, 23, ...|\n",
      "|/Users/mma525/Doc...|        0|[17, 17, 17, 15, ...|\n",
      "+--------------------+---------+--------------------+\n",
      "only showing top 4 rows\n",
      "\n",
      "5286\n",
      "624\n"
     ]
    }
   ],
   "source": [
    "udf_image = udf(lambda img: get_desc(img), ArrayType(FloatType()))\n",
    "\n",
    "def fetch_descriptor(img):\n",
    "    \n",
    "    image = cv2.imread(img)\n",
    "    image = cv2.resize(image, (50, 50))\n",
    "\n",
    "    if image is None:\n",
    "        image = []\n",
    "    else:\n",
    "        descriptor = image.flatten().tolist()\n",
    "    return descriptor\n",
    "\n",
    "udf_image = udf(fetch_descriptor, ArrayType(IntegerType()))\n",
    "\n",
    "udf_image = udf(fetch_descriptor, ArrayType(IntegerType()))\n",
    "\n",
    "# TODO need to do for test data as well\n",
    "# change afterwards\n",
    "train_descriptor = select_train.withColumn(\"descriptors\", udf_image(\"image_path\"))\n",
    "train_descriptor = train_descriptor.filter(train_descriptor.descriptors. isNotNull())\n",
    "\n",
    "\n",
    "test_descriptor = select_test.withColumn(\"descriptors\", udf_image(\"image_path\"))\n",
    "test_descriptor = test_descriptor.filter(test_descriptor.descriptors. isNotNull())\n",
    "\n",
    "\n",
    "\n",
    "train_descriptor.show(4)\n",
    "test_descriptor.show(4)\n",
    "print(train_descriptor.count())\n",
    "print(test_descriptor.count())\n",
    "\n"
   ]
  },
  {
   "cell_type": "code",
   "execution_count": 11,
   "metadata": {},
   "outputs": [
    {
     "name": "stdout",
     "output_type": "stream",
     "text": [
      "Total train examples:  5286\n",
      "Total test examples:  624\n"
     ]
    }
   ],
   "source": [
    "from pyspark.sql.functions import size\n",
    "\n",
    "train_filtered = train_descriptor.filter(size('descriptors')==7500)\n",
    "test_filtered = test_descriptor.filter(size('descriptors')==7500)\n",
    "\n",
    "print(\"Total train examples: \",train_filtered.count())\n",
    "print(\"Total test examples: \",test_filtered.count())"
   ]
  },
  {
   "cell_type": "code",
   "execution_count": 12,
   "metadata": {},
   "outputs": [
    {
     "name": "stdout",
     "output_type": "stream",
     "text": [
      "Total train examples:  5286\n",
      "Total test examples:  624\n"
     ]
    }
   ],
   "source": [
    "from pyspark.ml.linalg import Vectors, VectorUDT\n",
    "from pyspark.sql.functions import udf\n",
    "list_to_vector_udf = udf(lambda l: Vectors.dense(l), VectorUDT())\n",
    "\n",
    "train_with_vec = train_filtered.withColumn(\"vec_descriptors\", list_to_vector_udf(\"descriptors\"))\n",
    "test_with_vec = test_filtered.withColumn(\"vec_descriptors\", list_to_vector_udf(\"descriptors\"))\n",
    "\n",
    "print(\"Total train examples: \",train_with_vec.count())\n",
    "print(\"Total test examples: \",test_with_vec.count())\n"
   ]
  },
  {
   "cell_type": "markdown",
   "metadata": {},
   "source": [
    "Split the training into 90/10 into train and validation data"
   ]
  },
  {
   "cell_type": "code",
   "execution_count": 13,
   "metadata": {},
   "outputs": [
    {
     "name": "stdout",
     "output_type": "stream",
     "text": [
      "+--------------------+---------+--------------------+--------------------+\n",
      "|          image_path|new_label|         descriptors|     vec_descriptors|\n",
      "+--------------------+---------+--------------------+--------------------+\n",
      "|/Users/mma525/Doc...|        1|[58, 58, 58, 80, ...|[58.0,58.0,58.0,8...|\n",
      "|/Users/mma525/Doc...|        1|[61, 59, 59, 69, ...|[61.0,59.0,59.0,6...|\n",
      "|/Users/mma525/Doc...|        1|[8, 8, 8, 254, 25...|[8.0,8.0,8.0,254....|\n",
      "|/Users/mma525/Doc...|        1|[254, 254, 254, 0...|[254.0,254.0,254....|\n",
      "|/Users/mma525/Doc...|        1|[0, 0, 0, 253, 25...|[0.0,0.0,0.0,253....|\n",
      "|/Users/mma525/Doc...|        1|[0, 0, 0, 0, 0, 0...|[0.0,0.0,0.0,0.0,...|\n",
      "|/Users/mma525/Doc...|        1|[100, 100, 100, 1...|[100.0,100.0,100....|\n",
      "|/Users/mma525/Doc...|        1|[21, 21, 21, 23, ...|[21.0,21.0,21.0,2...|\n",
      "|/Users/mma525/Doc...|        1|[8, 8, 8, 8, 8, 8...|[8.0,8.0,8.0,8.0,...|\n",
      "|/Users/mma525/Doc...|        1|[97, 97, 97, 105,...|[97.0,97.0,97.0,1...|\n",
      "|/Users/mma525/Doc...|        1|[0, 0, 0, 0, 0, 0...|[0.0,0.0,0.0,0.0,...|\n",
      "|/Users/mma525/Doc...|        1|[131, 131, 131, 1...|[131.0,131.0,131....|\n",
      "|/Users/mma525/Doc...|        1|[149, 149, 149, 1...|[149.0,149.0,149....|\n",
      "|/Users/mma525/Doc...|        1|[21, 21, 21, 23, ...|[21.0,21.0,21.0,2...|\n",
      "|/Users/mma525/Doc...|        1|[6, 6, 6, 7, 7, 7...|[6.0,6.0,6.0,7.0,...|\n",
      "|/Users/mma525/Doc...|        1|[6, 6, 6, 5, 5, 5...|[6.0,6.0,6.0,5.0,...|\n",
      "|/Users/mma525/Doc...|        1|[1, 1, 1, 1, 1, 1...|[1.0,1.0,1.0,1.0,...|\n",
      "|/Users/mma525/Doc...|        1|[183, 183, 183, 1...|[183.0,183.0,183....|\n",
      "|/Users/mma525/Doc...|        1|[12, 12, 12, 6, 6...|[12.0,12.0,12.0,6...|\n",
      "|/Users/mma525/Doc...|        1|[14, 14, 14, 0, 0...|[14.0,14.0,14.0,0...|\n",
      "+--------------------+---------+--------------------+--------------------+\n",
      "only showing top 20 rows\n",
      "\n",
      "+--------------------+---------+--------------------+--------------------+\n",
      "|          image_path|new_label|         descriptors|     vec_descriptors|\n",
      "+--------------------+---------+--------------------+--------------------+\n",
      "|/Users/mma525/Doc...|        1|[8, 8, 8, 8, 8, 8...|[8.0,8.0,8.0,8.0,...|\n",
      "|/Users/mma525/Doc...|        1|[6, 6, 6, 6, 6, 6...|[6.0,6.0,6.0,6.0,...|\n",
      "|/Users/mma525/Doc...|        0|[1, 1, 1, 1, 1, 1...|[1.0,1.0,1.0,1.0,...|\n",
      "|/Users/mma525/Doc...|        0|[116, 116, 116, 1...|[116.0,116.0,116....|\n",
      "|/Users/mma525/Doc...|        0|[105, 105, 105, 1...|[105.0,105.0,105....|\n",
      "|/Users/mma525/Doc...|        0|[0, 0, 0, 0, 0, 0...|[0.0,0.0,0.0,0.0,...|\n",
      "|/Users/mma525/Doc...|        0|[76, 76, 76, 128,...|[76.0,76.0,76.0,1...|\n",
      "|/Users/mma525/Doc...|        0|[157, 157, 157, 2...|[157.0,157.0,157....|\n",
      "|/Users/mma525/Doc...|        0|[106, 106, 106, 1...|[106.0,106.0,106....|\n",
      "|/Users/mma525/Doc...|        0|[0, 0, 0, 0, 0, 0...|[0.0,0.0,0.0,0.0,...|\n",
      "|/Users/mma525/Doc...|        0|[59, 59, 59, 49, ...|[59.0,59.0,59.0,4...|\n",
      "|/Users/mma525/Doc...|        0|[0, 0, 0, 0, 0, 0...|[0.0,0.0,0.0,0.0,...|\n",
      "|/Users/mma525/Doc...|        0|[74, 74, 74, 93, ...|[74.0,74.0,74.0,9...|\n",
      "|/Users/mma525/Doc...|        0|[43, 43, 43, 65, ...|[43.0,43.0,43.0,6...|\n",
      "|/Users/mma525/Doc...|        0|[15, 15, 15, 16, ...|[15.0,15.0,15.0,1...|\n",
      "|/Users/mma525/Doc...|        0|[0, 0, 0, 0, 0, 0...|[0.0,0.0,0.0,0.0,...|\n",
      "|/Users/mma525/Doc...|        0|[43, 43, 43, 117,...|[43.0,43.0,43.0,1...|\n",
      "|/Users/mma525/Doc...|        0|[16, 16, 16, 36, ...|[16.0,16.0,16.0,3...|\n",
      "|/Users/mma525/Doc...|        0|[18, 18, 18, 30, ...|[18.0,18.0,18.0,3...|\n",
      "|/Users/mma525/Doc...|        0|[32, 32, 32, 44, ...|[32.0,32.0,32.0,4...|\n",
      "+--------------------+---------+--------------------+--------------------+\n",
      "only showing top 20 rows\n",
      "\n",
      "Total train split:  4779\n",
      "Total validation split:  507\n"
     ]
    }
   ],
   "source": [
    "train, val = train_with_vec.randomSplit([0.9, 0.1])\n",
    "train.show()\n",
    "val.show()\n",
    "print(\"Total train split: \",train.count())\n",
    "print(\"Total validation split: \",val.count())"
   ]
  },
  {
   "cell_type": "markdown",
   "metadata": {},
   "source": [
    "# Logistic Regression Classifier"
   ]
  },
  {
   "cell_type": "markdown",
   "metadata": {},
   "source": [
    "### Training"
   ]
  },
  {
   "cell_type": "markdown",
   "metadata": {},
   "source": [
    "Define our model and train on the training data"
   ]
  },
  {
   "cell_type": "code",
   "execution_count": 14,
   "metadata": {},
   "outputs": [],
   "source": [
    "from pyspark.ml.classification import LogisticRegression\n",
    "logistic_regression = LogisticRegression(featuresCol = 'vec_descriptors', labelCol = 'new_label', maxIter=100)\n",
    "logistic_regression_model = logistic_regression.fit(train)"
   ]
  },
  {
   "cell_type": "markdown",
   "metadata": {},
   "source": [
    "### Evaluating on training data"
   ]
  },
  {
   "cell_type": "code",
   "execution_count": 15,
   "metadata": {},
   "outputs": [
    {
     "name": "stdout",
     "output_type": "stream",
     "text": [
      "+--------------------+---------+--------------------+----------+\n",
      "|          image_path|new_label|         probability|prediction|\n",
      "+--------------------+---------+--------------------+----------+\n",
      "|/Users/mma525/Doc...|        1|[4.47243294660984...|       1.0|\n",
      "|/Users/mma525/Doc...|        1|[1.29001351237413...|       1.0|\n",
      "|/Users/mma525/Doc...|        1|[4.09797201580553...|       1.0|\n",
      "|/Users/mma525/Doc...|        1|[2.89160032613314...|       1.0|\n",
      "+--------------------+---------+--------------------+----------+\n",
      "only showing top 4 rows\n",
      "\n"
     ]
    }
   ],
   "source": [
    "predictions_train = logistic_regression_model.transform(train)\n",
    "predictions_train.select(\"image_path\",\"new_label\",\"probability\", \"prediction\").show(4)"
   ]
  },
  {
   "cell_type": "markdown",
   "metadata": {},
   "source": [
    "##### ROC evaluator"
   ]
  },
  {
   "cell_type": "code",
   "execution_count": 16,
   "metadata": {},
   "outputs": [
    {
     "name": "stdout",
     "output_type": "stream",
     "text": [
      "Train Area Under ROC:  0.9999677422199572\n"
     ]
    }
   ],
   "source": [
    "# Here we evaluate\n",
    "from pyspark.ml.evaluation import BinaryClassificationEvaluator\n",
    "evaluator = BinaryClassificationEvaluator(rawPredictionCol='probability', labelCol='new_label', metricName='areaUnderROC')\n",
    "print('Train Area Under ROC: ', evaluator.evaluate(predictions_train))\n"
   ]
  },
  {
   "cell_type": "markdown",
   "metadata": {},
   "source": [
    "##### Classifier evaluator"
   ]
  },
  {
   "cell_type": "code",
   "execution_count": 17,
   "metadata": {},
   "outputs": [
    {
     "name": "stdout",
     "output_type": "stream",
     "text": [
      "Train Accuracy:  0.9976982632349864\n"
     ]
    }
   ],
   "source": [
    "\n",
    "# multiclassclassification evaluator is used in order to measure accuracy\n",
    "from pyspark.ml.evaluation import MulticlassClassificationEvaluator\n",
    "evaluator = MulticlassClassificationEvaluator(predictionCol='prediction', labelCol='new_label', metricName='accuracy')\n",
    "print('Train Accuracy: ', evaluator.evaluate(predictions_train))\n",
    "\n",
    "\n"
   ]
  },
  {
   "cell_type": "markdown",
   "metadata": {},
   "source": [
    "### Evaluating on validation data"
   ]
  },
  {
   "cell_type": "code",
   "execution_count": 18,
   "metadata": {},
   "outputs": [
    {
     "name": "stdout",
     "output_type": "stream",
     "text": [
      "+--------------------+---------+--------------------+----------+\n",
      "|          image_path|new_label|         probability|prediction|\n",
      "+--------------------+---------+--------------------+----------+\n",
      "|/Users/mma525/Doc...|        1|[0.99999999997986...|       0.0|\n",
      "|/Users/mma525/Doc...|        1|[2.76759369931467...|       1.0|\n",
      "|/Users/mma525/Doc...|        0|[0.99999993458172...|       0.0|\n",
      "|/Users/mma525/Doc...|        0|[1.0,4.6933065702...|       0.0|\n",
      "+--------------------+---------+--------------------+----------+\n",
      "only showing top 4 rows\n",
      "\n"
     ]
    }
   ],
   "source": [
    "predictions_val = logistic_regression_model.transform(val)\n",
    "predictions_val.select(\"image_path\",\"new_label\",\"probability\", \"prediction\").show(4)"
   ]
  },
  {
   "cell_type": "markdown",
   "metadata": {},
   "source": [
    "##### ROC evaluator"
   ]
  },
  {
   "cell_type": "code",
   "execution_count": 19,
   "metadata": {},
   "outputs": [
    {
     "name": "stdout",
     "output_type": "stream",
     "text": [
      "Val Area Under ROC:  0.9816870144284132\n"
     ]
    }
   ],
   "source": [
    "# Here we evaluate\n",
    "from pyspark.ml.evaluation import BinaryClassificationEvaluator\n",
    "evaluator = BinaryClassificationEvaluator(rawPredictionCol='probability', labelCol='new_label', metricName='areaUnderROC')\n",
    "print('Val Area Under ROC: ', evaluator.evaluate(predictions_val))\n"
   ]
  },
  {
   "cell_type": "markdown",
   "metadata": {},
   "source": [
    "##### Classifier evaluator"
   ]
  },
  {
   "cell_type": "code",
   "execution_count": 20,
   "metadata": {},
   "outputs": [
    {
     "name": "stdout",
     "output_type": "stream",
     "text": [
      "Val Accuracy:  0.9664694280078896\n"
     ]
    }
   ],
   "source": [
    "\n",
    "# multiclassclassification evaluator is used in order to measure accuracy\n",
    "from pyspark.ml.evaluation import MulticlassClassificationEvaluator\n",
    "evaluator = MulticlassClassificationEvaluator(predictionCol='prediction', labelCol='new_label', metricName='accuracy')\n",
    "print('Val Accuracy: ', evaluator.evaluate(predictions_val))\n",
    "\n",
    "\n"
   ]
  },
  {
   "cell_type": "markdown",
   "metadata": {},
   "source": [
    "### Evaluating on test data"
   ]
  },
  {
   "cell_type": "markdown",
   "metadata": {},
   "source": [
    "We evaluate on the test data"
   ]
  },
  {
   "cell_type": "code",
   "execution_count": 21,
   "metadata": {},
   "outputs": [
    {
     "name": "stdout",
     "output_type": "stream",
     "text": [
      "+--------------------+---------+--------------------+----------+\n",
      "|          image_path|new_label|         probability|prediction|\n",
      "+--------------------+---------+--------------------+----------+\n",
      "|/Users/mma525/Doc...|        0|[4.09483116771980...|       1.0|\n",
      "|/Users/mma525/Doc...|        0|[1.56064516561494...|       1.0|\n",
      "|/Users/mma525/Doc...|        0|[7.51723548251625...|       1.0|\n",
      "|/Users/mma525/Doc...|        0|[1.19315269408144...|       1.0|\n",
      "+--------------------+---------+--------------------+----------+\n",
      "only showing top 4 rows\n",
      "\n"
     ]
    }
   ],
   "source": [
    "test = test_with_vec\n",
    "predictions_test = logistic_regression_model.transform(test)\n",
    "predictions_test.select(\"image_path\",\"new_label\",\"probability\", \"prediction\").show(4)"
   ]
  },
  {
   "cell_type": "markdown",
   "metadata": {},
   "source": [
    "##### ROC evaluator"
   ]
  },
  {
   "cell_type": "code",
   "execution_count": 22,
   "metadata": {},
   "outputs": [
    {
     "name": "stdout",
     "output_type": "stream",
     "text": [
      "Test Area Under ROC:  0.8497644093797941\n"
     ]
    }
   ],
   "source": [
    "# Here we evaluate\n",
    "from pyspark.ml.evaluation import BinaryClassificationEvaluator\n",
    "evaluator = BinaryClassificationEvaluator(rawPredictionCol='probability', labelCol='new_label', metricName='areaUnderROC')\n",
    "print('Test Area Under ROC: ', evaluator.evaluate(predictions_test))"
   ]
  },
  {
   "cell_type": "markdown",
   "metadata": {},
   "source": [
    "##### Classifier evaluator"
   ]
  },
  {
   "cell_type": "code",
   "execution_count": 23,
   "metadata": {},
   "outputs": [
    {
     "name": "stdout",
     "output_type": "stream",
     "text": [
      "Test Accuracy:  0.7339743589743589\n"
     ]
    }
   ],
   "source": [
    "# multiclassclassification evaluator is used in order to measure accuracy\n",
    "from pyspark.ml.evaluation import MulticlassClassificationEvaluator\n",
    "evaluator = MulticlassClassificationEvaluator(predictionCol='prediction', labelCol='new_label', metricName='accuracy')\n",
    "print('Test Accuracy: ', evaluator.evaluate(predictions_test))"
   ]
  }
 ],
 "metadata": {
  "kernelspec": {
   "display_name": "PySpark",
   "language": "python",
   "name": "pyspark"
  },
  "language_info": {
   "codemirror_mode": {
    "name": "ipython",
    "version": 3
   },
   "file_extension": ".py",
   "mimetype": "text/x-python",
   "name": "python",
   "nbconvert_exporter": "python",
   "pygments_lexer": "ipython3",
   "version": "3.7.6"
  }
 },
 "nbformat": 4,
 "nbformat_minor": 2
}
